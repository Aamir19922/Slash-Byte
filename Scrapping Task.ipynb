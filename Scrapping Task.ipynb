{
 "cells": [
  {
   "cell_type": "code",
   "execution_count": 2,
   "id": "57eff285",
   "metadata": {},
   "outputs": [],
   "source": [
    "import time\n",
    "import csv\n",
    "import json\n",
    "from bs4 import BeautifulSoup\n",
    "from selenium import webdriver\n",
    "from selenium.webdriver.chrome.options import Options"
   ]
  },
  {
   "cell_type": "code",
   "execution_count": 4,
   "id": "8d4b1574",
   "metadata": {},
   "outputs": [
    {
     "name": "stdout",
     "output_type": "stream",
     "text": [
      "Scraping completed successfully.\n"
     ]
    }
   ],
   "source": [
    "def scrape_real_estate_data(location):\n",
    "    base_url = f'https://www.realtor.com/realestateandhomes-search/Maryville_TN/show-newest-listings/sby-6{location}'  # Replace with the actual URL\n",
    "\n",
    "    # Configure Selenium options\n",
    "    chrome_options = Options()\n",
    "    chrome_options.add_argument('--headless')  # Run Chrome in headless mode (no GUI)\n",
    "\n",
    "    # Set up the Selenium WebDriver\n",
    "    driver = webdriver.Chrome(options=chrome_options)\n",
    "\n",
    "    try:\n",
    "        # Load the webpage\n",
    "        driver.get(base_url)\n",
    "\n",
    "        # Wait for dynamic content to load (adjust the sleep time based on website behavior)\n",
    "        time.sleep(5)\n",
    "\n",
    "        # Get the page source after dynamic content has loaded\n",
    "        page_source = driver.page_source\n",
    "\n",
    "        # Parse the HTML content using BeautifulSoup\n",
    "        soup = BeautifulSoup(page_source, 'html.parser')\n",
    "\n",
    "        # Lists to store scraped data\n",
    "        property_titles = []\n",
    "        property_prices = []\n",
    "        property_urls = []\n",
    "\n",
    "        # Extract information from the HTML\n",
    "        property_elements = soup.find_all('div', class_='property')  \n",
    "        \n",
    "        for property_element in property_elements:\n",
    "            # Extract Property Title\n",
    "            title = property_element.find('h2').text.strip()\n",
    "            property_titles.append(title)\n",
    "\n",
    "            # Extract Property Price\n",
    "            price = property_element.find('span', class_='price').text.strip()\n",
    "            property_prices.append(price)\n",
    "\n",
    "            # Extract Property URL\n",
    "            url = property_element.find('a')['href']\n",
    "            property_urls.append(url)\n",
    "\n",
    "        # Store the scraped data in a well-structured format (CSV or JSON)\n",
    "        data = list(zip(property_titles, property_prices, property_urls))\n",
    "\n",
    "        # Save to CSV\n",
    "        with open('real_estate_data.csv', 'w', newline='', encoding='utf-8') as csv_file:\n",
    "            csv_writer = csv.writer(csv_file)\n",
    "            csv_writer.writerow(['Property Title', 'Property Price', 'Property URL'])\n",
    "            csv_writer.writerows(data)\n",
    "\n",
    "        # Save to JSON\n",
    "        with open('real_estate_data.json', 'w', encoding='utf-8') as json_file:\n",
    "            json.dump(data, json_file, ensure_ascii=False, indent=2)\n",
    "\n",
    "        print(\"Scraping completed successfully.\")\n",
    "    except Exception as e:\n",
    "        print(f\"Error: {e}\")\n",
    "    finally:\n",
    "        # Close the WebDriver\n",
    "        driver.quit()\n",
    "\n",
    "scrape_real_estate_data('Maryville, TN')\n"
   ]
  },
  {
   "cell_type": "code",
   "execution_count": null,
   "id": "0e183b2d",
   "metadata": {},
   "outputs": [],
   "source": []
  }
 ],
 "metadata": {
  "kernelspec": {
   "display_name": "Python 3 (ipykernel)",
   "language": "python",
   "name": "python3"
  },
  "language_info": {
   "codemirror_mode": {
    "name": "ipython",
    "version": 3
   },
   "file_extension": ".py",
   "mimetype": "text/x-python",
   "name": "python",
   "nbconvert_exporter": "python",
   "pygments_lexer": "ipython3",
   "version": "3.9.13"
  }
 },
 "nbformat": 4,
 "nbformat_minor": 5
}
